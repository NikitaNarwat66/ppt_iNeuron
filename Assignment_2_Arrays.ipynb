{
 "cells": [
  {
   "cell_type": "markdown",
   "id": "71f13b27",
   "metadata": {},
   "source": [
    "# ASSIGNMENT 2 - ARRAYS"
   ]
  },
  {
   "cell_type": "markdown",
   "id": "1f157976",
   "metadata": {},
   "source": [
    "# Question 1\n",
    "Given an integer array nums of 2n integers, group these integers into n pairs (a1, b1), (a2, b2),..., (an, bn) such that the sum of min(ai, bi) for all i is maximized. Return the maximized sum.\n",
    "\n",
    "**Example 1:**\n",
    "**Input:** nums = [1,4,3,2]\n",
    "\n",
    "**Output:** 4\n",
    "\n",
    "**Explanation:** All possible pairings (ignoring the ordering of elements) are:\n",
    "\n",
    "1. (1, 4), (2, 3) -> min(1, 4) + min(2, 3) = 1 + 2 = 3\n",
    "2. (1, 3), (2, 4) -> min(1, 3) + min(2, 4) = 1 + 2 = 3\n",
    "3. (1, 2), (3, 4) -> min(1, 2) + min(3, 4) = 1 + 3 = 4\n",
    "So the maximum possible sum is 4"
   ]
  },
  {
   "cell_type": "code",
   "execution_count": 26,
   "id": "c516cb09",
   "metadata": {},
   "outputs": [],
   "source": [
    "def max_sum(nums):\n",
    "    nums.sort()\n",
    "    \n",
    "    ans = 0\n",
    "\n",
    "    for i in range(0, len(nums), 2):\n",
    "        ans += nums[i]\n",
    "    \n",
    "    return ans"
   ]
  },
  {
   "cell_type": "code",
   "execution_count": 27,
   "id": "8e262988",
   "metadata": {},
   "outputs": [
    {
     "name": "stdout",
     "output_type": "stream",
     "text": [
      "1 4 3 2\n",
      "4\n"
     ]
    }
   ],
   "source": [
    "nums = list(map(int, input().split()))\n",
    "\n",
    "res = max_sum(nums)\n",
    "\n",
    "print(res)"
   ]
  },
  {
   "cell_type": "markdown",
   "id": "73cfd95c",
   "metadata": {},
   "source": [
    "# Question 2\n",
    "Alice has n candies, where the ith candy is of type candyType[i]. Alice noticed that she started to gain weight, so she visited a doctor. \n",
    "\n",
    "The doctor advised Alice to only eat n / 2 of the candies she has (n is always even). Alice likes her candies very much, and she wants to eat the maximum number of different types of candies while still following the doctor's advice. \n",
    "\n",
    "Given the integer array candyType of length n, return the maximum number of different types of candies she can eat if she only eats n / 2 of them.\n",
    "\n",
    "**Example 1:**\n",
    "\n",
    "**Input:** candyType = [1,1,2,2,3,3]\n",
    "\n",
    "**Output:** 3\n",
    "\n",
    "**Explanation:** Alice can only eat 6 / 2 = 3 candies. Since there are only 3 types, she can eat one of each type."
   ]
  },
  {
   "cell_type": "code",
   "execution_count": 29,
   "id": "5756bd7f",
   "metadata": {},
   "outputs": [],
   "source": [
    "def maxCandyType(candyType):\n",
    "    uniqueCT = set(candyType)\n",
    "    \n",
    "    if len(uniqueCT) < len(candyType) // 2:\n",
    "        return uniqueCT\n",
    "    else:\n",
    "        return len(candyType) // 2"
   ]
  },
  {
   "cell_type": "code",
   "execution_count": 33,
   "id": "7dacd8b2",
   "metadata": {},
   "outputs": [
    {
     "name": "stdout",
     "output_type": "stream",
     "text": [
      "1 1 2 2 3 3\n",
      "3\n"
     ]
    }
   ],
   "source": [
    "candyType = list(map(int, input().split()))\n",
    "\n",
    "res = maxCandyType(candyType)\n",
    "\n",
    "print(res)"
   ]
  },
  {
   "cell_type": "markdown",
   "id": "a213c160",
   "metadata": {},
   "source": [
    "# Question 3\n",
    "\n",
    "\n",
    "We define a harmonious array as an array where the difference between its maximum value\n",
    "and its minimum value is exactly 1.\n",
    "\n",
    "Given an integer array nums, return the length of its longest harmonious subsequence\n",
    "among all its possible subsequences.\n",
    "\n",
    "A subsequence of an array is a sequence that can be derived from the array by deleting some or no elements without changing the order of the remaining elements.\n",
    "\n",
    "**Example 1:**\n",
    "\n",
    "**Input:** nums = [1,3,2,2,5,2,3,7]\n",
    "\n",
    "**Output:** 5\n",
    "\n",
    "**Explanation:** The longest harmonious subsequence is [3,2,2,2,3]"
   ]
  },
  {
   "cell_type": "code",
   "execution_count": 40,
   "id": "3b851055",
   "metadata": {},
   "outputs": [],
   "source": [
    "def longest_HS_len(nums):\n",
    "    count = dict.fromkeys(set(nums), 0)\n",
    "    \n",
    "    for i in nums:\n",
    "        count[i] += 1\n",
    "    \n",
    "    len = 0\n",
    "    \n",
    "    for i in count:\n",
    "        if i+1 in count:\n",
    "            len = max(count[i] + count[i+1], len)\n",
    "    \n",
    "    return len"
   ]
  },
  {
   "cell_type": "code",
   "execution_count": 44,
   "id": "7b3e1b10",
   "metadata": {},
   "outputs": [
    {
     "name": "stdout",
     "output_type": "stream",
     "text": [
      "1 3 2 2 5 2 3 7\n",
      "5\n"
     ]
    }
   ],
   "source": [
    "nums = list(map(int, input().split()))\n",
    "\n",
    "res = longest_HS_len(nums)\n",
    "\n",
    "print(res)"
   ]
  },
  {
   "cell_type": "markdown",
   "id": "10e11f8b",
   "metadata": {},
   "source": [
    "# Question 4\n",
    "You have a long flowerbed in which some of the plots are planted, and some are not.\n",
    "However, flowers cannot be planted in adjacent plots.\n",
    "Given an integer array flowerbed containing 0's and 1's, where 0 means empty and 1 means not empty, and an integer n, return true if n new flowers can be planted in the flowerbed without violating the no-adjacent-flowers rule and false otherwise.\n",
    "\n",
    "**Example 1:**\n",
    "\n",
    "**Input:** flowerbed = [1,0,0,0,1], n = 1\n",
    "\n",
    "**Output:** true"
   ]
  },
  {
   "cell_type": "code",
   "execution_count": 48,
   "id": "3ae93a59",
   "metadata": {},
   "outputs": [],
   "source": [
    "def planting(flowerbed, n):\n",
    "    \n",
    "    for i in range(len(flowerbed)):\n",
    "        if (\n",
    "            flowerbed[i] == 0 and \n",
    "            (i == 0 or flowerbed[i-1] == 0) and\n",
    "            (i == len(flowerbed) - 1 or flowerbed[i+1] == 0)\n",
    "        ):\n",
    "            flowerbed[i] = 1\n",
    "            n = n-1\n",
    "            \n",
    "    if n == 0:\n",
    "        return True\n",
    "    \n",
    "    return False"
   ]
  },
  {
   "cell_type": "code",
   "execution_count": 56,
   "id": "836e4768",
   "metadata": {},
   "outputs": [
    {
     "name": "stdout",
     "output_type": "stream",
     "text": [
      "flowerbed: 1 0 0 0 1\n",
      "n: 1\n",
      "True\n"
     ]
    }
   ],
   "source": [
    "flowerbed = list(map(int, input(\"flowerbed: \").split()))\n",
    "n = int(input(\"n: \"))\n",
    "\n",
    "res = planting(flowerbed, n)\n",
    "\n",
    "print(res)"
   ]
  },
  {
   "cell_type": "markdown",
   "id": "4e1b604f",
   "metadata": {},
   "source": [
    "# Question 5\n",
    "Given an integer array nums, find three numbers whose product is maximum and return the maximum product.\n",
    "\n",
    "**Example 1:**\n",
    "\n",
    "**Input:** nums = [1,2,3]\n",
    "\n",
    "**Output:** 6"
   ]
  },
  {
   "cell_type": "code",
   "execution_count": 52,
   "id": "f5dc7755",
   "metadata": {},
   "outputs": [],
   "source": [
    "def maxProd(nums):\n",
    "    nums.sort()\n",
    "    \n",
    "    res = nums[-1] * nums[-2] * nums[-3]\n",
    "    \n",
    "    return res"
   ]
  },
  {
   "cell_type": "code",
   "execution_count": 57,
   "id": "bf1aaadd",
   "metadata": {},
   "outputs": [
    {
     "name": "stdout",
     "output_type": "stream",
     "text": [
      "1 2 3\n",
      "6\n"
     ]
    }
   ],
   "source": [
    "nums = list(map(int, input().split()))\n",
    "\n",
    "res = maxProd(nums)\n",
    "\n",
    "print(res)"
   ]
  },
  {
   "cell_type": "markdown",
   "id": "77909165",
   "metadata": {},
   "source": [
    "# Question 6\n",
    "Given an array of integers nums which is sorted in ascending order, and an integer target,\n",
    "write a function to search target in nums. If target exists, then return its index. Otherwise,\n",
    "return -1.\n",
    "\n",
    "You must write an algorithm with O(log n) runtime complexity.\n",
    "\n",
    "__Input:__ nums = [-1,0,3,5,9,12], target = 9\n",
    "\n",
    "__Output:__ 4\n",
    "\n",
    "__Explanation:__ 9 exists in nums and its index is 4"
   ]
  },
  {
   "cell_type": "code",
   "execution_count": 78,
   "id": "45badbbd",
   "metadata": {},
   "outputs": [],
   "source": [
    "def binSearch(nums, target):\n",
    "    low = 0\n",
    "    high = len(nums)-1\n",
    "    \n",
    "    while(low <= high):\n",
    "        mid = ((high - low) // 2) + low\n",
    "        \n",
    "        if(nums[mid] == target):\n",
    "            return mid\n",
    "        elif(nums[mid] > target):\n",
    "            high = mid-1\n",
    "        else:\n",
    "            low = mid+1\n",
    "    \n",
    "    return -1"
   ]
  },
  {
   "cell_type": "code",
   "execution_count": 86,
   "id": "d1e09a91",
   "metadata": {},
   "outputs": [
    {
     "name": "stdout",
     "output_type": "stream",
     "text": [
      "nums: -1 0 3 5 9 12\n",
      "target: 9\n",
      "index =  4\n"
     ]
    }
   ],
   "source": [
    "nums = list(map(int, input(\"nums: \").split()))\n",
    "target = int(input(\"target: \"))\n",
    "\n",
    "ind = binSearch(nums, target)\n",
    "\n",
    "print(\"index = \", ind)"
   ]
  },
  {
   "cell_type": "markdown",
   "id": "6e6e2b6d",
   "metadata": {},
   "source": [
    "# Question 7\n",
    "An array is monotonic if it is either monotone increasing or monotone decreasing.\n",
    "\n",
    "An array nums is monotone increasing if for all i <= j, nums[i] <= nums[j]. An array nums is\n",
    "monotone decreasing if for all i <= j, nums[i] >= nums[j].\n",
    "\n",
    "Given an integer array nums, return true if the given array is monotonic, or false otherwise.\n",
    "\n",
    "**Example 1:**\n",
    "\n",
    "**Input:** nums = [1,2,2,3]\n",
    "\n",
    "**Output:** true"
   ]
  },
  {
   "cell_type": "code",
   "execution_count": 92,
   "id": "118f1a93",
   "metadata": {},
   "outputs": [],
   "source": [
    "def monotone(a):\n",
    "    inc = True\n",
    "    dec = True\n",
    "    \n",
    "    for i in range(1, len(a)):\n",
    "        if(a[i] < a[i-1]):\n",
    "            inc = False\n",
    "        elif(a[i] > a[i-1]):\n",
    "            dec = False\n",
    "        \n",
    "        if not inc and not dec:\n",
    "            return False\n",
    "    \n",
    "    return True"
   ]
  },
  {
   "cell_type": "code",
   "execution_count": 94,
   "id": "96c9e90c",
   "metadata": {},
   "outputs": [
    {
     "name": "stdout",
     "output_type": "stream",
     "text": [
      "nums: 1 2 2 3\n",
      "True\n"
     ]
    }
   ],
   "source": [
    "nums = list(map(int, input(\"nums: \").split()))\n",
    "\n",
    "res = monotone(nums)\n",
    "\n",
    "print(res)"
   ]
  },
  {
   "cell_type": "markdown",
   "id": "edbe17df",
   "metadata": {},
   "source": [
    "# Question 8\n",
    "You are given an integer array nums and an integer k.\n",
    "\n",
    "In one operation, you can choose any index i where 0 <= i < nums.length and change nums[i] to nums[i] + x where x is an integer from the range [-k, k]. You can apply this operation at most once for each index i.\n",
    "\n",
    "The score of nums is the difference between the maximum and minimum elements in nums.\n",
    "\n",
    "Return the minimum score of nums after applying the mentioned operation at most once for each index in it.\n",
    "\n",
    "__Example 1:__\n",
    "\n",
    "**Input:** nums = [1], k = 0\n",
    "\n",
    "**Output:** 0\n",
    "\n",
    "**Explanation:** The score is max(nums) - min(nums) = 1 - 1 = 0."
   ]
  },
  {
   "cell_type": "code",
   "execution_count": 95,
   "id": "65ca6000",
   "metadata": {},
   "outputs": [],
   "source": [
    "def minScore(nums, k):\n",
    "    score = min(nums) - max(nums)\n",
    "\n",
    "    if score <= 2 * k:\n",
    "        return 0\n",
    "\n",
    "    return score - 2 * k"
   ]
  },
  {
   "cell_type": "code",
   "execution_count": 96,
   "id": "5901880d",
   "metadata": {},
   "outputs": [
    {
     "name": "stdout",
     "output_type": "stream",
     "text": [
      "nums: 1\n",
      "k: 0\n",
      "0\n"
     ]
    }
   ],
   "source": [
    "nums = list(map(int, input(\"nums: \").split()))\n",
    "k = int(input(\"k: \"))\n",
    "\n",
    "res = minScore(nums, k)\n",
    "\n",
    "print(res)"
   ]
  },
  {
   "cell_type": "code",
   "execution_count": null,
   "id": "63344cfa",
   "metadata": {},
   "outputs": [],
   "source": []
  }
 ],
 "metadata": {
  "kernelspec": {
   "display_name": "Python 3 (ipykernel)",
   "language": "python",
   "name": "python3"
  },
  "language_info": {
   "codemirror_mode": {
    "name": "ipython",
    "version": 3
   },
   "file_extension": ".py",
   "mimetype": "text/x-python",
   "name": "python",
   "nbconvert_exporter": "python",
   "pygments_lexer": "ipython3",
   "version": "3.9.8"
  }
 },
 "nbformat": 4,
 "nbformat_minor": 5
}
